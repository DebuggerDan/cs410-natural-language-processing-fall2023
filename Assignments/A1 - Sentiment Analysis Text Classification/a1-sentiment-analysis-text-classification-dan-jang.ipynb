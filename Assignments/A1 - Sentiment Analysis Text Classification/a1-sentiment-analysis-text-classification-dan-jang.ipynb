{
 "cells": [
  {
   "cell_type": "markdown",
   "metadata": {},
   "source": [
    "# CS410: Natural Language Processing, Fall 2023\n",
    "## A1: Sentiment Analysis Text Classification, Dan Jang - 10/9/2023"
   ]
  },
  {
   "cell_type": "markdown",
   "metadata": {},
   "source": [
    "#### Description of Assignment\n",
    "\n",
    "##### Introduction\n",
    "\n",
    "##### Data Preparation\n",
    "\n",
    "##### Feature Engineering\n",
    "\n",
    "##### Text Classification Model\n",
    "\n",
    "##### Results & Analysis"
   ]
  },
  {
   "cell_type": "markdown",
   "metadata": {},
   "source": [
    "#### Requirements\n"
   ]
  },
  {
   "cell_type": "markdown",
   "metadata": {},
   "source": [
    "### Main Implementation: Text Classification"
   ]
  },
  {
   "cell_type": "code",
   "execution_count": null,
   "metadata": {},
   "outputs": [],
   "source": [
    "### CS410: Natural Language Processing, Fall 2023 - 10/9/2023\n",
    "### A1: Sentiment Analysis Text Classification, Dan Jang\n",
    "## Objective: Exploring Natural Language Processing (NLP), by building a text-classifier\n",
    "## for a text classification task, predicting whether a piece of text is \"positive\" or \"negative.\"\n",
    "\n",
    "def main():\n",
    "    \n",
    "\n",
    "\n",
    "# if __name__ == \"__main__\":\n",
    "#     main()"
   ]
  },
  {
   "cell_type": "markdown",
   "metadata": {},
   "source": [
    "### References & Resources\n",
    "\n"
   ]
  }
 ],
 "metadata": {
  "language_info": {
   "name": "python"
  }
 },
 "nbformat": 4,
 "nbformat_minor": 2
}
