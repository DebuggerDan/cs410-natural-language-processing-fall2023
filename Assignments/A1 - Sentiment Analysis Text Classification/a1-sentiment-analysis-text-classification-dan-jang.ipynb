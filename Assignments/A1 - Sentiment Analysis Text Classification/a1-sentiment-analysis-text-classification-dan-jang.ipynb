{
 "cells": [
  {
   "cell_type": "markdown",
   "metadata": {},
   "source": [
    "# CS410: Natural Language Processing, Fall 2023\n",
    "## A1: Sentiment Analysis Text Classification, Dan Jang - 10/9/2023"
   ]
  },
  {
   "cell_type": "markdown",
   "metadata": {},
   "source": [
    "#### Description of Assignment\n",
    "\n",
    "##### Introduction\n",
    "\n",
    "##### Data Preparation\n",
    "A dataset containing product customer reviews, which is named the \"Multilingual Amazon Reviews Corpus\", in a json-container format, with several columns. The assignment will focus on a smaller subset of the original dataset, where we will focus on __two (2) columns__:\n",
    "* \"review_title\" - self-explanatory\n",
    "* \"stars\" - an integer, either 1 or 5, where the former indicates \"negative\" and 5 indicates \"positive.\"\n",
    "\n",
    "There will be a training set & a test set.\n",
    "\n",
    "We will load the dataset using Python & use respective libraries to implement our text-classification model.\n",
    "\n",
    "Optionally, we will preprocess the data if needed, e.g. case-formating.\n",
    "##### Feature Engineering\n",
    "We will choose a set of classifiers to focus on in our text-classification model, e.g. *n*-grams, num words, cue words, repeated punctuation, etc.\n",
    "\n",
    "##### Text Classification Model\n",
    "To build our text-classification model, we will __follow these steps__:\n",
    "* Any *two* chosen suitable algorithms for text classification.\n",
    "* Vectorization of the text data (conversion of text for numerical features).\n",
    "* Training of the text-classification model using the training dataset, \"sentiment_train.json.\"\n",
    "* Evaluation of our text-classification model using the testing dataset, \"sentiment_test.json.\"\n",
    "\n",
    "##### Results & Analysis\n",
    "A detailed analysis of the model's performance by comparing the results from the output of our two algorithms, where we will __include the following__:\n",
    "* *F1-score* or other relevant metrics.\n",
    "* Confusion matrix.\n",
    "* Any challenges or limitations of the text-classification model/task.\n",
    "* Suggestions for improvement in the performance of the text-classification model."
   ]
  },
  {
   "cell_type": "markdown",
   "metadata": {},
   "source": [
    "#### Requirements\n"
   ]
  },
  {
   "cell_type": "markdown",
   "metadata": {},
   "source": [
    "### Main Implementation: Text Classification"
   ]
  },
  {
   "cell_type": "code",
   "execution_count": null,
   "metadata": {},
   "outputs": [],
   "source": [
    "### CS410: Natural Language Processing, Fall 2023 - 10/9/2023\n",
    "### A1: Sentiment Analysis Text Classification, Dan Jang\n",
    "## Objective: Exploring Natural Language Processing (NLP), by building a text-classifier\n",
    "## for a text classification task, predicting whether a piece of text is \"positive\" or \"negative.\"\n",
    "\n",
    "def main():\n",
    "    \n",
    "\n",
    "\n",
    "# if __name__ == \"__main__\":\n",
    "#     main()"
   ]
  },
  {
   "cell_type": "markdown",
   "metadata": {},
   "source": [
    "### Text-Classification Model Performance Analysis & Discussion\n",
    "\n",
    "#### Initial Data Results, Metrics, & Analysis\n",
    "\n",
    "#### Comparative Analysis & Discussion\n",
    "\n",
    "#### Text-Classification Challenges & Limitations\n",
    "\n",
    "#### Discussion for Future Performance & Efficacy Improvements"
   ]
  },
  {
   "cell_type": "markdown",
   "metadata": {},
   "source": [
    "### References & Resources\n",
    "\n"
   ]
  }
 ],
 "metadata": {
  "kernelspec": {
   "display_name": "Python 3",
   "language": "python",
   "name": "python3"
  },
  "language_info": {
   "name": "python",
   "version": "3.10.4"
  }
 },
 "nbformat": 4,
 "nbformat_minor": 2
}
